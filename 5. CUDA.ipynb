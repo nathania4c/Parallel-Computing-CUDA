{
  "nbformat": 4,
  "nbformat_minor": 0,
  "metadata": {
    "colab": {
      "provenance": []
    },
    "kernelspec": {
      "name": "python3",
      "display_name": "Python 3"
    },
    "accelerator": "GPU"
  },
  "cells": [
    {
      "cell_type": "markdown",
      "source": [
        "# Setup\n",
        "\n",
        "1.   **GPU Runtime**: click on the \"Runtime\" menu item in the top bar and select the \"Change runtime type\" option. Select \"GPU\" from the list of Hardware accelerators and click \"Ok\".  \n",
        "\n",
        "2.   CUDA Compilation: we will use of the NVCC4Jupyter plugin which effectively turns any Colab Notebook code block that includes `%%cu` into compilable/runnable CUDA code."
      ],
      "metadata": {
        "id": "O7RFj9ykaSzY"
      }
    },
    {
      "cell_type": "code",
      "metadata": {
        "id": "GYXTE96HMb_w",
        "colab": {
          "base_uri": "https://localhost:8080/"
        },
        "outputId": "88d035d9-ba68-4382-e356-fc47f8209503"
      },
      "source": [
        "# first run this to install and load nvcc plugin\n",
        "!pip install git+https://github.com/engasa/nvcc4jupyter.git\n",
        "%load_ext nvcc_plugin"
      ],
      "execution_count": null,
      "outputs": [
        {
          "output_type": "stream",
          "name": "stdout",
          "text": [
            "Looking in indexes: https://pypi.org/simple, https://us-python.pkg.dev/colab-wheels/public/simple/\n",
            "Collecting git+https://github.com/engasa/nvcc4jupyter.git\n",
            "  Cloning https://github.com/engasa/nvcc4jupyter.git to /tmp/pip-req-build-4cmkp2uh\n",
            "  Running command git clone -q https://github.com/engasa/nvcc4jupyter.git /tmp/pip-req-build-4cmkp2uh\n",
            "Building wheels for collected packages: NVCCPlugin\n",
            "  Building wheel for NVCCPlugin (setup.py) ... \u001b[?25l\u001b[?25hdone\n",
            "  Created wheel for NVCCPlugin: filename=NVCCPlugin-0.0.2-py3-none-any.whl size=4407 sha256=e79ef96450e757d288c7f5a1759fbcaf8d733d9d5c699fd55dd7adc6f8cd8715\n",
            "  Stored in directory: /tmp/pip-ephem-wheel-cache-gwx4z4b5/wheels/d2/a3/04/ef659d715dcdd196d998813ca085af3cab3df66f4bb27576b5\n",
            "Successfully built NVCCPlugin\n",
            "Installing collected packages: NVCCPlugin\n",
            "Successfully installed NVCCPlugin-0.0.2\n",
            "created output directory at /content/src\n",
            "Out bin /content/result.out\n"
          ]
        }
      ]
    },
    {
      "cell_type": "markdown",
      "source": [
        "\n",
        "\n",
        "3.   Now you can check your CUDA installation by running the command below. The output should show you some info about the Cuda compiler, e.g., \"*nvcc: NVIDIA (R) Cuda compiler driver Copyright (c) 2005-2021* ...etc\""
      ],
      "metadata": {
        "id": "7MwvWlydb9W3"
      }
    },
    {
      "cell_type": "code",
      "source": [
        "# check nvcc version\n",
        "!nvcc --version"
      ],
      "metadata": {
        "id": "I1ZHiWr-cNJ0",
        "colab": {
          "base_uri": "https://localhost:8080/"
        },
        "outputId": "f6eca4ec-cdff-414d-ae7e-9178f4aa98d1"
      },
      "execution_count": null,
      "outputs": [
        {
          "output_type": "stream",
          "name": "stdout",
          "text": [
            "nvcc: NVIDIA (R) Cuda compiler driver\n",
            "Copyright (c) 2005-2021 NVIDIA Corporation\n",
            "Built on Sun_Feb_14_21:12:58_PST_2021\n",
            "Cuda compilation tools, release 11.2, V11.2.152\n",
            "Build cuda_11.2.r11.2/compiler.29618528_0\n"
          ]
        }
      ]
    },
    {
      "cell_type": "markdown",
      "source": [
        "4.   You can also check if GPU has been allocated. Colab notebooks without a GPU technically have access to NVCC and will compile and execute CPU/Host code, however, GPU/Device code will silently fail. To prevent such situations, this code will warn the user.\n"
      ],
      "metadata": {
        "id": "x-dAfZOCiayz"
      }
    },
    {
      "cell_type": "code",
      "source": [
        "%%cu\n",
        "#include <stdio.h>\n",
        "#include \"device_launch_parameters.h\"\n",
        "int main() {\n",
        "    int count;\n",
        "    cudaGetDeviceCount(&count);\n",
        "    if (count <= 0 || count > 100)  printf(\"!!!!! WARNING<-: NO GPU DETECTED ON THIS COLLABORATE INSTANCE. YOU SHOULD CHANGE THE RUNTIME TYPE.!!!!!\\n\");\n",
        "    else                            printf(\"^^^^ GPU ENABLED! ^^^^\\n\");\n",
        "    return 0;\n",
        "}"
      ],
      "metadata": {
        "id": "W1IWUSIFiSkt",
        "colab": {
          "base_uri": "https://localhost:8080/"
        },
        "outputId": "3b918c84-9146-4bb0-ecce-0def072928fd"
      },
      "execution_count": null,
      "outputs": [
        {
          "output_type": "stream",
          "name": "stdout",
          "text": [
            "^^^^ GPU ENABLED! ^^^^\n",
            "\n"
          ]
        }
      ]
    },
    {
      "cell_type": "markdown",
      "source": [
        "If you see anything but \"GPU ENABLED - ..etc\", then repeat the above steps again."
      ],
      "metadata": {
        "id": "3Gb610rHmAXy"
      }
    },
    {
      "cell_type": "markdown",
      "source": [
        "\n",
        "\n",
        "---\n",
        "\n",
        "\n",
        "# SANDBOX\n",
        "Now you can try your own CUDA code in the box below.\n",
        "Note that %%cu is used to switch the mode to CUDA"
      ],
      "metadata": {
        "id": "oS0kJx-HdIkb"
      }
    },
    {
      "cell_type": "code",
      "metadata": {
        "id": "Qd8bMrV9M6U-",
        "colab": {
          "base_uri": "https://localhost:8080/"
        },
        "outputId": "1076380c-78b0-46fd-e480-d325735832c7"
      },
      "source": [
        "%%cu\n",
        "#include \"cuda_runtime.h\"\n",
        "#include \"device_launch_parameters.h\"\n",
        "#include <stdio.h>\n",
        "\n",
        "//you may use this macro for error checking\n",
        "#define CHK(call) {cudaError_t err = call; if (err != cudaSuccess) { printf(\"Error%d: %s:%d\\n\",err,__FILE__,__LINE__); printf(cudaGetErrorString(err)); cudaDeviceReset(); exit(1);}}\n",
        "\n",
        "__global__ void kernel(){\n",
        "\n",
        "}\n",
        "\n",
        "int main(){\n",
        "\n",
        "    return 0;\n",
        "}"
      ],
      "execution_count": null,
      "outputs": [
        {
          "output_type": "stream",
          "name": "stdout",
          "text": [
            "\n"
          ]
        }
      ]
    },
    {
      "cell_type": "markdown",
      "source": [
        "\n",
        "\n",
        "---\n",
        "\n",
        "\n",
        "#Q1"
      ],
      "metadata": {
        "id": "6Qz2FhC2QDhZ"
      }
    },
    {
      "cell_type": "markdown",
      "source": [
        "![Screenshot 2022-10-24 154254.png](data:image/png;base64,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)"
      ],
      "metadata": {
        "id": "ju6dl6ScP4tf"
      }
    },
    {
      "cell_type": "markdown",
      "source": [
        "\n",
        "\n",
        "---\n",
        "\n",
        "\n",
        "#Q2"
      ],
      "metadata": {
        "id": "5eKeeAp4dmUv"
      }
    },
    {
      "cell_type": "markdown",
      "source": [
        "### (a) Serial Code"
      ],
      "metadata": {
        "id": "54hsYo44eQ1Y"
      }
    },
    {
      "cell_type": "code",
      "source": [
        "%%cu\n",
        "#include \"cuda_runtime.h\"\n",
        "#include <stdlib.h>\n",
        "#include <stdio.h>\n",
        "#include <time.h>\n",
        "\n",
        "int main() {\n",
        "  const int n = 10000000;\n",
        "  double * a = (double*)(malloc(n*sizeof(double)));\n",
        "\n",
        "  if (a == NULL) {\n",
        "      printf(\"Error, failed to allocate space for %d integers\", n);\n",
        "      exit(0);\n",
        "  }\n",
        "\n",
        "  clock_t start = clock();\n",
        "  for (int i = 0; i < n; i++) {\n",
        "      a[i] = (double)i / n;\n",
        "  }\n",
        "  clock_t stop = clock();\n",
        "\n",
        "  printf(\"Processing Time: %.7f sec\\n\", (double)(stop-start) / CLOCKS_PER_SEC);\n",
        "\n",
        "  for (int i = 0; i<5; i++) {\n",
        "      printf(\"a[%d] = %.7f\\n\", i, a[i]);\n",
        "  }\n",
        "\n",
        "  for (int i = (n-5); i<n; i++) {\n",
        "      printf(\"a[%d] = %.7f\\n\", i, a[i]);\n",
        "  }\n",
        "\n",
        "  free(a);\n",
        "\n",
        "  return 0;\n",
        "}"
      ],
      "metadata": {
        "id": "2Vb6xf5Yds0g",
        "colab": {
          "base_uri": "https://localhost:8080/"
        },
        "outputId": "ea154ee1-f3f2-4b53-b9c1-cd5e3b535503"
      },
      "execution_count": null,
      "outputs": [
        {
          "output_type": "stream",
          "name": "stdout",
          "text": [
            "Processing Time: 0.0882330 sec\n",
            "a[0] = 0.0000000\n",
            "a[1] = 0.0000001\n",
            "a[2] = 0.0000002\n",
            "a[3] = 0.0000003\n",
            "a[4] = 0.0000004\n",
            "a[9999995] = 0.9999995\n",
            "a[9999996] = 0.9999996\n",
            "a[9999997] = 0.9999997\n",
            "a[9999998] = 0.9999998\n",
            "a[9999999] = 0.9999999\n",
            "\n"
          ]
        }
      ]
    },
    {
      "cell_type": "markdown",
      "source": [
        "### (b) Parallel Code"
      ],
      "metadata": {
        "id": "bya10w3Ne2dE"
      }
    },
    {
      "cell_type": "code",
      "source": [
        "%%cu\n",
        "#include <stdio.h>\n",
        "#include <time.h>\n",
        "\n",
        "__global__ void initA(double* a, int N) {\n",
        "    int i = blockIdx.x * blockDim.x + threadIdx.x;\n",
        "    if (i<N) {\n",
        "        a[i] = (double) i / N;\n",
        "    }\n",
        "}\n",
        "\n",
        "int main() {\n",
        "    const int N = 10000000;\n",
        "    double *in = (double*)(malloc(N*sizeof(double)));\n",
        "\n",
        "    if (in == NULL) {\n",
        "        printf(\"Error, failed to allocate space for %d integers\", N);\n",
        "        exit(0);\n",
        "    }\n",
        "\n",
        "    double *a;\n",
        "    const int SIZE_BYTES = N * sizeof(double);\n",
        "    cudaMalloc(&a, SIZE_BYTES);\n",
        "\n",
        "    cudaMemcpy(a, in, SIZE_BYTES, cudaMemcpyHostToDevice);\n",
        "    clock_t start = clock();\n",
        "    initA<<<10000, 1000>>>(a, N);\n",
        "    clock_t stop = clock();\n",
        "    cudaMemcpy(in, a, SIZE_BYTES, cudaMemcpyDeviceToHost);\n",
        "\n",
        "    printf(\"Processing Time: %.7f sec\\n\", (double)(stop-start) / CLOCKS_PER_SEC);\n",
        "\n",
        "    for (int i = 0; i<5; i++) {\n",
        "        printf(\"a[%d] = %.7f\\n\", i, in[i]);\n",
        "    }\n",
        "\n",
        "    for (int i = (N-5); i<N; i++) {\n",
        "        printf(\"a[%d] = %.7f\\n\", i, in[i]);\n",
        "    }\n",
        "\n",
        "    free(in);\n",
        "    cudaFree(a);\n",
        "\n",
        "    return 0;\n",
        "\n",
        "}\n",
        "\n"
      ],
      "metadata": {
        "id": "biLMHy0te5G0",
        "colab": {
          "base_uri": "https://localhost:8080/"
        },
        "outputId": "24905213-dcac-481a-b6c4-8fde8330053f"
      },
      "execution_count": null,
      "outputs": [
        {
          "output_type": "stream",
          "name": "stdout",
          "text": [
            "Processing Time: 0.0000260 sec\n",
            "a[0] = 0.0000000\n",
            "a[1] = 0.0000001\n",
            "a[2] = 0.0000002\n",
            "a[3] = 0.0000003\n",
            "a[4] = 0.0000004\n",
            "a[9999995] = 0.9999995\n",
            "a[9999996] = 0.9999996\n",
            "a[9999997] = 0.9999997\n",
            "a[9999998] = 0.9999998\n",
            "a[9999999] = 0.9999999\n",
            "\n"
          ]
        }
      ]
    }
  ]
}